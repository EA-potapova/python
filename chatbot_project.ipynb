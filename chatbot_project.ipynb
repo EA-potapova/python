{
  "nbformat": 4,
  "nbformat_minor": 0,
  "metadata": {
    "colab": {
      "name": "Копия блокнота \"2022_МИРЭК_Проект.ipynb\"",
      "provenance": [],
      "collapsed_sections": [
        "Z1OEfdLcLb9e",
        "1AibnCB9MZ5S",
        "J1WH66BlMvpe",
        "LU0zLPVzNWN7",
        "MF7AkiEPJRW1"
      ]
    },
    "kernelspec": {
      "name": "python3",
      "display_name": "Python 3"
    },
    "language_info": {
      "name": "python"
    }
  },
  "cells": [
    {
      "cell_type": "markdown",
      "source": [
        "# Проект"
      ],
      "metadata": {
        "id": "ajSawBvILBhE"
      }
    },
    {
      "cell_type": "markdown",
      "source": [
        "## Задание 1.1\n",
        "\n",
        "Тема нашего исследования: оценка популярности фильмов определенных жанров, основываясь на показателях группы \"Лучшие фильмы\" вконтакте. \n",
        "\n",
        "\n",
        "\n",
        "*   Использовались такие данные как: название фильма, жанр (в случае, если указано несколько жанров, мы использовали основной) и количество лайков\n"
      ],
      "metadata": {
        "id": "Z1OEfdLcLb9e"
      }
    },
    {
      "cell_type": "markdown",
      "source": [
        "Рассмотрим на примере текста одного из постов:\n",
        "\n",
        "Небесная команда (2021)👍🏻 - **здесь указан такой элемент как название фильма**\\\n",
        "Жанр: спорт, биография, драма - **затем мы берем жанр \"спорт\" как основной**\n",
        " \n",
        "**Далее работаем с описанием фильма:**\n",
        "\n",
        "Они — болельщики хоккейного клуба «Локомотив» из Ярославля. Люди, навсегда преданные клубу. Жены хоккеистов, сотрудники стадиона, молодые спортсмены и ветераны фан-движения, которые запевают на трибунах несколько десятков лет. В честь открытия нового сезона Континентальной хоккейной лиги армия поклонников «Локомотива» отправляется в Минск на первый матч турнира, чтобы поддержать команду. Никто из них не знает, что эта поездка навсегда изменит жизнь каждого, а трагедия, которая случится с «Локомотивом» разделит спортивный мир на «до» и «после»."
      ],
      "metadata": {
        "id": "0ik7WmtdJvJF"
      }
    },
    {
      "cell_type": "markdown",
      "source": [
        ""
      ],
      "metadata": {
        "id": "_GNlnWGrLiKa"
      }
    },
    {
      "cell_type": "code",
      "source": [
        "!pip install vk_api"
      ],
      "metadata": {
        "id": "fPjzq3xWLfqi"
      },
      "execution_count": null,
      "outputs": []
    },
    {
      "cell_type": "code",
      "source": [
        "#import vk_api"
      ],
      "metadata": {
        "id": "L1MWbvPbLgCl"
      },
      "execution_count": null,
      "outputs": []
    },
    {
      "cell_type": "code",
      "source": [
        "#login = '' \n",
        "#password = ''\n",
        "\n",
        "#def auth_handler():\n",
        "    #key = input(\"Authentication code: \")\n",
        "    #return key, False\n",
        "#vk_session = vk_api.VkApi(login, password, auth_handler=auth_handler)\n",
        "#vk_session.auth()"
      ],
      "metadata": {
        "id": "NviXnbKfMZUt"
      },
      "execution_count": null,
      "outputs": []
    },
    {
      "cell_type": "code",
      "source": [
        "#vk = vk_session.get_api() #точка входа в VK"
      ],
      "metadata": {
        "id": "muZPtyI9ddp2"
      },
      "execution_count": 129,
      "outputs": []
    },
    {
      "cell_type": "markdown",
      "source": [
        "### Собираем данные сообщества \"Лучшие фильмы с помощью vk.api\""
      ],
      "metadata": {
        "id": "XI1NRoXJeATx"
      }
    },
    {
      "cell_type": "code",
      "source": [
        "#tools = vk_api.VkTools(vk)\n",
        "#wall_id = -7142203"
      ],
      "metadata": {
        "id": "Jr5FR-u8eAAS"
      },
      "execution_count": null,
      "outputs": []
    },
    {
      "cell_type": "code",
      "source": [
        "#wall = tools.get_all('wall.get', 4, {'owner_id': wall_id}, limit = 300)"
      ],
      "metadata": {
        "id": "2Shk_MnaeMBf"
      },
      "execution_count": null,
      "outputs": []
    },
    {
      "cell_type": "markdown",
      "source": [
        "## Задание 1.2 \n",
        "\n",
        "Считываем данные, собранные и сохраненные в предыдущем пункте:"
      ],
      "metadata": {
        "id": "1AibnCB9MZ5S"
      }
    },
    {
      "cell_type": "code",
      "source": [
        "import json # импортируем модуль для работы с json"
      ],
      "metadata": {
        "id": "tczvDYm4Mvdm"
      },
      "execution_count": null,
      "outputs": []
    },
    {
      "cell_type": "code",
      "source": [
        "with open(\"wall_file.json\", \"w\") as file: #открываем файл на запись\n",
        "    json.dump(wall, file)\n",
        "with open(\"wall_file.json\", \"r\") as file:\n",
        "    wall_data = json.load(file)"
      ],
      "metadata": {
        "id": "0HDCOzPMerok"
      },
      "execution_count": null,
      "outputs": []
    },
    {
      "cell_type": "code",
      "source": [
        "wall_data"
      ],
      "metadata": {
        "id": "L9Cx1o53vxwS"
      },
      "execution_count": null,
      "outputs": []
    },
    {
      "cell_type": "markdown",
      "source": [
        "### Сбор и структурирование данных, работа с текстом"
      ],
      "metadata": {
        "id": "Np3RL_dZlc8w"
      }
    },
    {
      "cell_type": "code",
      "source": [
        "posts_genre={} #словарь, в котором ключом является название фильма, а значением - его основной жанр\n",
        "posts_likes={} #словарь, в котором ключом является название фильма, а значением - количество лайков\n",
        "\n",
        "for i in wall_data['items']: \n",
        "  post_text=i['text'] \n",
        "  if '(' and ')' in post_text and 'Жанр' in post_text: \n",
        "    new_post_text=post_text.split('\\n') \n",
        "    if 'Жанр' in new_post_text[1]: \n",
        "      no_title=new_post_text[0].split('(') \n",
        "      no_genre=new_post_text[1].split(':') \n",
        "      title=no_title[0].rstrip() \n",
        "\n",
        "      title=title.strip().lower()\n",
        "      title=title.replace(\"|\", \"\")\n",
        "      title=title.replace(\"i\", \"\")\n",
        "      title=title.replace(\"n\", \"н\")\n",
        "      title=title.replace(\"h\", \"н\")\n",
        "      title=title.replace(\"m\", \"м\")\n",
        "      title=title.replace(\"3\", \"з\")\n",
        "      title=title.replace(\"k\", \"к\")\n",
        "      title=title.replace(\"b\", \"б\")\n",
        "      title=title.replace(\"t\", \"т\")\n",
        "      title=title.replace('0', 'о')\n",
        "      title=title.replace('бl', 'ы')\n",
        "      title=title.replace('d', 'д')\n",
        "      title=title.replace('6', 'б') #дешифруем названия фильмов\n",
        "\n",
        "      for elem in title: \n",
        "        if elem.isalnum() != True: \n",
        "          title=title.replace(elem, \" \") \n",
        "\n",
        "      genre=no_genre[1].strip().split() \n",
        "      for g in genre: \n",
        "        g=g.replace('u', 'и') \n",
        "        g=g.replace('g', 'д') \n",
        "        g=g.replace('6', 'б') #дешифруем жанры фильмов\n",
        "        g=g.lower().strip(\",; \") \n",
        "\n",
        "        posts_genre[title]=g #заполняем словарь posts_genre\n",
        "        posts_likes[title]=i['likes']['count'] #заполняем словарь posts_likes\n",
        "\n",
        "      if title=='наркоз': \n",
        "        posts_genre['наркоз']='триллер' #издержки неотредактированных постов\n",
        "\n",
        "print(posts_genre) \n",
        "print(posts_likes)"
      ],
      "metadata": {
        "id": "1wcNc7xAm1e_"
      },
      "execution_count": null,
      "outputs": []
    },
    {
      "cell_type": "markdown",
      "source": [
        "## Задание 2\n",
        "Постройте минимум два графика разного типа (линейный, столбчатая диаграмма, диаграмма рассеяния) по вашим данным. Опишите, что они показывают и какие выводы по ним можно сделать. \n",
        "Не забудьте про наименование графика и осей."
      ],
      "metadata": {
        "id": "J1WH66BlMvpe"
      }
    },
    {
      "cell_type": "code",
      "source": [
        "!pip install plotly==4.2.1 #загружаем библотеку plotly для работы с визуализацией данных\n",
        "import plotly.graph_objects as go"
      ],
      "metadata": {
        "id": "p78ftzICNWCo"
      },
      "execution_count": null,
      "outputs": []
    },
    {
      "cell_type": "code",
      "source": [
        "films_per_genre={} #создаем словарь, в котором ключом является жанр, а значением - его частотность\n",
        "for elem in posts_genre: \n",
        " if posts_genre[elem] not in films_per_genre: \n",
        "   films_per_genre[posts_genre[elem]]=1 \n",
        " else: \n",
        "   films_per_genre[posts_genre[elem]]+=1 \n",
        " \n",
        "sorted_films_per_genre=sorted(films_per_genre.items(), key=lambda x: x[1], reverse= True) \n",
        "top_ten_genres=sorted_films_per_genre[:10] #берем топ 10 самых часто встречающихся в группе жанров\n",
        "genres=[] \n",
        "count=[] \n",
        " \n",
        "for i in top_ten_genres: \n",
        " genres.append(i[0]) \n",
        " count.append(i[1]) \n",
        " \n",
        "#создаем аргументы для графика\n",
        "print(genres) \n",
        "print(count)"
      ],
      "metadata": {
        "id": "0K3WOyC-gRvO"
      },
      "execution_count": null,
      "outputs": []
    },
    {
      "cell_type": "markdown",
      "source": [
        "### Создаем столбчатую диаграмму, которая отражает частотность жанров\n",
        "\n",
        "\n",
        "\n",
        "*   По оси х - жанры\n",
        "*   По оси у - количество раз, которое встретился определенный жанр\n",
        "\n"
      ],
      "metadata": {
        "id": "_tgVhixJLhr1"
      }
    },
    {
      "cell_type": "code",
      "source": [
        "our_bar=go.Bar(y=count, \n",
        " x=genres, \n",
        " marker= {'color': 'salmon'}, \n",
        " hovertemplate='%{y} фильмов жанра %{x}') \n",
        " \n",
        "our_layout=go.Layout(title='Топ 10 самых часто встречающихся жанров', \n",
        " xaxis={'title': 'Жанры'}, \n",
        " yaxis={'title': 'Количество фильмов'}, \n",
        " plot_bgcolor='white') \n",
        " \n",
        "fig = go.Figure(data=our_bar, layout=our_layout) \n",
        "fig.show()"
      ],
      "metadata": {
        "id": "pY7s3CqTgRWe"
      },
      "execution_count": null,
      "outputs": []
    },
    {
      "cell_type": "markdown",
      "source": [
        "**Как мы можем заметить, наиболее распространенными в группе являются фильмы жанра Приключения, а также Триллер и Криминал**"
      ],
      "metadata": {
        "id": "605oQcuX0J_y"
      }
    },
    {
      "cell_type": "code",
      "source": [
        "posts_likes_sorted=sorted(posts_likes.items(), key=lambda x: x[1], reverse=True) \n",
        "top_ten_films=posts_likes_sorted[:10] #берем топ 10 самых популярных фильмов по лайкам\n",
        " \n",
        "films=[] \n",
        "likes=[] \n",
        "for i in top_ten_films: \n",
        " films.append(i[0]) \n",
        " likes.append(i[1]) \n",
        "\n",
        "#создаем аргументы для графика\n",
        "print(films) \n",
        "print(likes)"
      ],
      "metadata": {
        "id": "RbZ-9Go52I26"
      },
      "execution_count": null,
      "outputs": []
    },
    {
      "cell_type": "code",
      "source": [
        "our_scatter = go.Scatter(x = films, \n",
        " y = likes, \n",
        " marker = {'color': 'salmon'}, \n",
        " hovertemplate='Фильм %{x} набрал %{y} лайков') \n",
        " \n",
        "our_layout=go.Layout(title='Количество лайков по фильмам', \n",
        " xaxis={'title': 'Фильмы'}, \n",
        " yaxis={'title': 'Количество лайков'}, \n",
        " plot_bgcolor='white') \n",
        " \n",
        "fig = go.Figure(data=our_scatter, layout=our_layout) \n",
        "fig.show()"
      ],
      "metadata": {
        "id": "19h7Fh2R2XB7"
      },
      "execution_count": null,
      "outputs": []
    },
    {
      "cell_type": "markdown",
      "source": [
        "**Как мы можем видеть, самым популярным фильмом в группе стал фильм Бессмертные**"
      ],
      "metadata": {
        "id": "insCNDnNMlXV"
      }
    },
    {
      "cell_type": "markdown",
      "source": [
        "## Задание 3\n",
        "В этом пункте мы работаем с текстом каждого поста, в котором содержится краткое описание сюжета фильма\n",
        "* Удаляем стоп-слова, избавляемся от пунктуации и лемматизируем текст\n",
        "* Составляем словарь частотности слов в тексте"
      ],
      "metadata": {
        "id": "LU0zLPVzNWN7"
      }
    },
    {
      "cell_type": "code",
      "source": [
        "text_list = [] #пустой список, в котором будут хранится описания каждого фильма\n",
        "for i in wall_data['items']: \n",
        "  post_text=i['text']\n",
        "  if '(' and ')' in post_text and 'Жанр' in post_text: \n",
        "    new_post_text=post_text.split('\\n')\n",
        "    text_list.append(new_post_text[-1])"
      ],
      "metadata": {
        "id": "FRdBJ38vpNS_"
      },
      "execution_count": null,
      "outputs": []
    },
    {
      "cell_type": "code",
      "source": [
        "#удаление знаков препинания и пунктуации для работы с текстом\n",
        "new_txt = []\n",
        "for text in text_list: #берем третий элемент списка, им является описание фильма\n",
        "  for i in text:\n",
        "    if i != ' ' and i.isalnum() == False: #проверяем соответствие условиям\n",
        "      text = text.replace(i, '') \n",
        "      new_text = text.strip()\n",
        "  new_txt.append(new_text)\n",
        "print(new_txt)"
      ],
      "metadata": {
        "id": "vFnOaPgAOLcU"
      },
      "execution_count": null,
      "outputs": []
    },
    {
      "cell_type": "code",
      "source": [
        "!pip install nltk\n",
        "import nltk\n",
        "from nltk.corpus import stopwords\n",
        "nltk.download('stopwords')"
      ],
      "metadata": {
        "id": "AAw8oXdJ-uEQ"
      },
      "execution_count": null,
      "outputs": []
    },
    {
      "cell_type": "code",
      "source": [
        "#удаление стоп-слов с помощью библиотеки nltk\n",
        "clean_text_lst= [] #пустой список, который будет состоять из элементов текста после удаления стоп-слов\n",
        "for text in new_txt:\n",
        "  text_lst = text.split(' ')\n",
        "  for word in text_lst:\n",
        "    if word.lower() not in stopwords.words('russian'):\n",
        "      clean_text_lst.append(word)\n",
        "print(clean_text_lst)"
      ],
      "metadata": {
        "id": "Z4xpBnKe-t4B"
      },
      "execution_count": null,
      "outputs": []
    },
    {
      "cell_type": "code",
      "source": [
        "!pip install pymorphy2\n",
        "import pymorphy2\n",
        "morph = pymorphy2.MorphAnalyzer()"
      ],
      "metadata": {
        "id": "T5tcc8wn--FX"
      },
      "execution_count": null,
      "outputs": []
    },
    {
      "cell_type": "code",
      "source": [
        "#лемматизация слов с помощью библиотеки pymorphy\n",
        "text_lem = []\n",
        "for word in clean_text_lst:\n",
        "  text_lem.append(morph.parse(word)[0].normal_form)\n",
        "print(text_lem)"
      ],
      "metadata": {
        "id": "eYOhcYxM-91A"
      },
      "execution_count": null,
      "outputs": []
    },
    {
      "cell_type": "code",
      "source": [
        "#создание словаря частотности слов\n",
        "d_cnt = {}\n",
        "for word in text_lem:\n",
        "  d_cnt[word] = text_lem.count(word) #словарь, где ключом является слово, а его значением - сколько раз оно встречалось в тексте\n",
        "d_cnt_sort = dict(sorted(d_cnt.items(), key = lambda x: x[1]))\n",
        "for i in d_cnt_sort:\n",
        "  print(f'{i}: {d_cnt_sort[i]}')"
      ],
      "metadata": {
        "id": "w0j_YkTQ-98u"
      },
      "execution_count": null,
      "outputs": []
    },
    {
      "cell_type": "markdown",
      "source": [
        "## Задание 4 \n",
        "Выводы, которые мы сделали из работы с данными:\n",
        "\n",
        "\n",
        "*   Мы выявили самые популярные у зрителей жанры фильмов\n",
        "*   Определили самые популярные фильмы по количеству лайков\n",
        "*   Собрав данные, мы смогли составить алгоритм, предлагающий пользователю список фильмов выбранного жанра\n",
        "\n"
      ],
      "metadata": {
        "id": "aPBWqMNtOLn8"
      }
    },
    {
      "cell_type": "markdown",
      "source": [
        "## Работа с выборкой жанров и подбор фильма по вводу\n",
        "\n",
        "*  В этом пункте мы решили подвести итог работы с данными и создать короткий алгоритм, который запрашивает у пользователя жанр из предложенных и выводит все подходящие фильмы"
      ],
      "metadata": {
        "id": "MF7AkiEPJRW1"
      }
    },
    {
      "cell_type": "code",
      "source": [
        "print('В результате работы с данными были распознаны фильмы следующих жанров: ')\n",
        "genres_set = set()\n",
        "for genre in posts_genre.values():\n",
        "    genres_set.add(genre)\n",
        "print(*genres_set, sep = ', ')\n",
        "\n",
        "#начинаем работать с пользователем и просим ввести выбранный жанр\n",
        "genre_input = input('Фильмы какого жанра вы хотите найти? Введите жанр, чтобы вывести список фильмов или \"End\", чтобы завершить выбор: ')\n",
        "while genre_input != 'End':\n",
        "  if genre_input in genres_set:\n",
        "    print(f'В группе были опубликованы следующие фильмы жанра: {genre_input}\\n')\n",
        "    for title in posts_genre.keys():\n",
        "      if genre_input in posts_genre[title]:\n",
        "        print(title)\n",
        "    print('*' * 40)\n",
        "    genre_input = input('Фильмы какого жанра вы хотите найти? Введите жанр, чтобы вывести список фильмов или \"End\", чтобы завершить выбор: ')\n",
        "        \n",
        "  else:\n",
        "    print('Фильмов такого жанра нет, попробуйте еще раз: ')\n",
        "    print('*' * 40)\n",
        "    genre_input = input('Фильмы какого жанра вы хотите найти? Введите жанр, чтобы вывести список фильмов или \"End\", чтобы завершить выбор: ')"
      ],
      "metadata": {
        "id": "PSdGbHKHJPaJ"
      },
      "execution_count": null,
      "outputs": []
    }
  ]
}